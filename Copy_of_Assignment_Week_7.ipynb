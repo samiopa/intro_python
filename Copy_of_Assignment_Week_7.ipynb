{
  "nbformat": 4,
  "nbformat_minor": 0,
  "metadata": {
    "colab": {
      "name": "Copy of Assignment Week 7.ipynb",
      "provenance": [],
      "include_colab_link": true
    },
    "kernelspec": {
      "name": "python3",
      "display_name": "Python 3"
    }
  },
  "cells": [
    {
      "cell_type": "markdown",
      "metadata": {
        "id": "view-in-github",
        "colab_type": "text"
      },
      "source": [
        "<a href=\"https://colab.research.google.com/github/samiopa/intro_python/blob/master/Copy_of_Assignment_Week_7.ipynb\" target=\"_parent\"><img src=\"https://colab.research.google.com/assets/colab-badge.svg\" alt=\"Open In Colab\"/></a>"
      ]
    },
    {
      "cell_type": "markdown",
      "metadata": {
        "id": "ssVL6QEUKk_L"
      },
      "source": [
        "# WEEK 7 ASSIGNMENT : Working with Strings\n",
        "\n",
        "----------------\n",
        "\n",
        "You are encouraged to create a new blank workbook for your solutions. You should then save your solutions into GitHub.\n",
        "\n",
        "**0)** Write a program that prints the following by using the VARIABLE.upper() and VARIABLE.lower() commands:\n",
        "\"Hello World\"\n",
        "\"HELLO WORLD\"\n",
        "\"hello world\"\n",
        "\n",
        "**1)** Define a python function, hasVowels(str), that takes in a string as input to the function and checks to see if the string contains any vowels. Your function should return True if the string has a vowel and False if the string does not have a vowel. \n",
        "\n",
        "If your **hasVowels** function is written correctly then the following test code should work:\n",
        " "
      ]
    },
    {
      "cell_type": "code",
      "metadata": {
        "id": "Lwm-F2kssVa6",
        "outputId": "c9699cb5-b10f-41f2-94c7-fa747b362e73",
        "colab": {
          "base_uri": "https://localhost:8080/",
          "height": 308
        }
      },
      "source": [
        "#4\n",
        "enterStuff = []\n",
        "\n",
        "f = False\n",
        "while f == False:\n",
        "  print('Enter a word: (to stop entering, type stop)')\n",
        "  word = input()\n",
        "  enterStuff.append(word)\n",
        "  print(enterStuff)\n",
        "  if word.lower() == 'stop':\n",
        "    break\n",
        "del enterStuff[-1]\n",
        "print(enterStuff)"
      ],
      "execution_count": 32,
      "outputs": [
        {
          "output_type": "stream",
          "text": [
            "Enter a word: (to stop entering, type stop)\n",
            "does\n",
            "['does']\n",
            "Enter a word: (to stop entering, type stop)\n",
            "this\n",
            "['does', 'this']\n",
            "Enter a word: (to stop entering, type stop)\n",
            "code\n",
            "['does', 'this', 'code']\n",
            "Enter a word: (to stop entering, type stop)\n",
            "work\n",
            "['does', 'this', 'code', 'work']\n",
            "Enter a word: (to stop entering, type stop)\n",
            "StOp\n",
            "['does', 'this', 'code', 'work', 'StOp']\n",
            "['does', 'this', 'code', 'work']\n"
          ],
          "name": "stdout"
        }
      ]
    },
    {
      "cell_type": "code",
      "metadata": {
        "id": "IAQ0N5Zldy9P",
        "outputId": "d32e6df2-2be6-4af3-9e72-0cd5df11b66e",
        "colab": {
          "base_uri": "https://localhost:8080/",
          "height": 108
        }
      },
      "source": [
        "#3\n",
        "vowels = ['a','e','i','o','u'] \n",
        "def countVowels():\n",
        "  count = 0\n",
        "  countInput = input()\n",
        "  for x in countInput:\n",
        "    if x in vowels:\n",
        "      count = count + 1\n",
        "      print(count)\n",
        "countVowels()"
      ],
      "execution_count": 28,
      "outputs": [
        {
          "output_type": "stream",
          "text": [
            "hfuetfhyluidh\n",
            "1\n",
            "2\n",
            "3\n",
            "4\n"
          ],
          "name": "stdout"
        }
      ]
    },
    {
      "cell_type": "code",
      "metadata": {
        "id": "6NPNo55IaRXy",
        "outputId": "03c5ce85-e75d-424d-ce83-ea2e926b8353",
        "colab": {
          "base_uri": "https://localhost:8080/",
          "height": 90
        }
      },
      "source": [
        "#2\n",
        "x = False\n",
        "while x == False:\n",
        "  print(\"Enter a word with vowels:\")\n",
        "  wordVowel = input()\n",
        "  if 'a' in wordVowel:\n",
        "    break\n",
        "  elif 'e' in wordVowel:\n",
        "    break\n",
        "  elif 'i' in wordVowel:\n",
        "    break\n",
        "  elif 'o' in wordVowel:\n",
        "    break\n",
        "  elif 'u' in wordVowel:\n",
        "    break"
      ],
      "execution_count": 10,
      "outputs": [
        {
          "output_type": "stream",
          "text": [
            "Enter a word with vowels:\n",
            "tstng\n",
            "Enter a word with vowels:\n",
            "testing\n"
          ],
          "name": "stdout"
        }
      ]
    },
    {
      "cell_type": "code",
      "metadata": {
        "id": "qCDG33vJqow8",
        "outputId": "59bb7440-0b22-4bfc-ccf8-e000d64556b8",
        "colab": {
          "base_uri": "https://localhost:8080/",
          "height": 72
        }
      },
      "source": [
        "#1\n",
        "def hasVowels(word):\n",
        "  print('Enter a word:')\n",
        "  enterString = input()\n",
        "  if 'a' in enterString:\n",
        "    return True\n",
        "  elif 'e' in enterString:\n",
        "    return True\n",
        "  elif 'i' in enterString:\n",
        "    return True\n",
        "  elif 'o' in enterString:\n",
        "    return True\n",
        "  elif 'u' in enterString:\n",
        "    return True\n",
        "  else:\n",
        "    return False\n",
        "hasVowels('testing')\n",
        "  \n",
        "  \n"
      ],
      "execution_count": null,
      "outputs": [
        {
          "output_type": "stream",
          "text": [
            "Enter a word:\n",
            "hfdkyf\n"
          ],
          "name": "stdout"
        },
        {
          "output_type": "execute_result",
          "data": {
            "text/plain": [
              "False"
            ]
          },
          "metadata": {
            "tags": []
          },
          "execution_count": 47
        }
      ]
    },
    {
      "cell_type": "code",
      "metadata": {
        "id": "cI4csSOzawVf",
        "outputId": "18735586-67ea-4a5b-ca85-10e6c497024c",
        "colab": {
          "base_uri": "https://localhost:8080/",
          "height": 54
        }
      },
      "source": [
        "#0\n",
        "hi = 'Hello World'\n",
        "print(hi.upper())\n",
        "print(hi.lower())\n"
      ],
      "execution_count": null,
      "outputs": [
        {
          "output_type": "stream",
          "text": [
            "HELLO WORLD\n",
            "hello world\n"
          ],
          "name": "stdout"
        }
      ]
    },
    {
      "cell_type": "code",
      "metadata": {
        "id": "2udnQYLbKddY"
      },
      "source": [
        "word = \"berry\"\n",
        "not_word = \"fghjk\"\n",
        "\n",
        "if hasVowels(word):\n",
        "  print(\"The string\", word, \"has at least one vowel\")\n",
        "else:\n",
        "  print(\"The string\", word, \"does not have any vowels\")\n",
        "\n",
        "if hasVowels(not_word):\n",
        "  print(\"The string\", not_word, \"has at least one vowel\")\n",
        "else:\n",
        "  print(\"The string\", not_word, \"does not have any vowels\")"
      ],
      "execution_count": null,
      "outputs": []
    },
    {
      "cell_type": "markdown",
      "metadata": {
        "id": "wMs6Ap_qMJDo"
      },
      "source": [
        "**2)** Write a Python program that makes use of your existing **hasVowels** function to do the following task. Repeatedly ask the user to enter a word with vowels from the keyboard, you should stop when the user correctly enters a word with vowels. \n",
        "\n",
        "For example, if the user first types \"fhbjk\" and then types \"mbbccv\" you should keep asking the user to try again until they finally successfully enter something that has at least one vowel."
      ]
    },
    {
      "cell_type": "markdown",
      "metadata": {
        "id": "3zKsF4QiMxTu"
      },
      "source": [
        "**3)** Define a Python function called, countVowels(str), that takes in a string as input to the function and returns the number of vowels in the string. \n",
        "\n",
        "You should have a count variable inside the function and then loop through the letters in the string and check each one to see if it is a vowel. \n",
        "\n",
        "If your **countVowels** function is written correctly then the following test code should work.\n",
        "\n"
      ]
    },
    {
      "cell_type": "code",
      "metadata": {
        "id": "JTWk3nZWNSTO"
      },
      "source": [
        "name1 = \"matthew\"\n",
        "name2 = \"lepinski\"\n",
        "\n",
        "count1 = countVowels(name1)\n",
        "count2 = countVowels(name2)\n",
        "\n",
        "print(name1, \"has\", count1, \"vowels in it\")\n",
        "print(name2, \"has\", count2, \"vowels in it\")"
      ],
      "execution_count": null,
      "outputs": []
    },
    {
      "cell_type": "markdown",
      "metadata": {
        "id": "6JyIDGJyNmJF"
      },
      "source": [
        "**4)** Write a Python program that starts with an empty list and then asks the user to enter a word. The program should add the word to the list and then ask for a new word (and add the new word to the list) and continue like this until the user enters \"stop\" or \"STOP\" or \"STop\" or any variation like \"sTOP\" or \"stoP\".\n",
        "\n",
        "Note: We did something similar to this last week, you might want to look at the Week 6 assignment or worksheet for inspiration"
      ]
    },
    {
      "cell_type": "markdown",
      "metadata": {
        "id": "QmWEmSA9OXtN"
      },
      "source": [
        "**5)** Use your **countVowels** funciton from problem 3 and your list of words from problem 4 together to figure out the total number of vowels in all of the words that the user enters. \n",
        "\n",
        "Note: Ideally, you should not count the 1 \"o\" in the \"stop\" that they typed at the end"
      ]
    }
  ]
}