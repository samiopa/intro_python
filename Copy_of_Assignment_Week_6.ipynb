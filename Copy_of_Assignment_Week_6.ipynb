{
  "nbformat": 4,
  "nbformat_minor": 0,
  "metadata": {
    "colab": {
      "name": "Copy of Assignment Week 6.ipynb",
      "provenance": [],
      "collapsed_sections": [],
      "include_colab_link": true
    },
    "kernelspec": {
      "name": "python3",
      "display_name": "Python 3"
    }
  },
  "cells": [
    {
      "cell_type": "markdown",
      "metadata": {
        "id": "view-in-github",
        "colab_type": "text"
      },
      "source": [
        "<a href=\"https://colab.research.google.com/github/samiopa/intro_python/blob/master/Copy_of_Assignment_Week_6.ipynb\" target=\"_parent\"><img src=\"https://colab.research.google.com/assets/colab-badge.svg\" alt=\"Open In Colab\"/></a>"
      ]
    },
    {
      "cell_type": "markdown",
      "metadata": {
        "id": "OmbYt8lDcUhp"
      },
      "source": [
        "# WEEK 6 ASSIGNMENT : Introduction to Lists\n",
        "\n",
        "----------------\n",
        "\n",
        "Due to the exam, the assignment this week is a bit shorter than ussual. \n",
        "\n",
        "You are encouraged to create a new blank workbook for your solutions. You should then save your solutions into GitHub.\n",
        "\n",
        "**0)** Create a list that contains \"Hello\" and \"World\". Write a program that prints out this list. \n",
        "\n",
        "**1)** Create a program that starts with an empty list and then uses a while loop to repeatedly ask the user to enter the name of a food. The program should add each food to the list. The program should stop when the user enters \"stop\".\n",
        "\n",
        "Note: There is an example similar to this in the worksheet.\n",
        "\n",
        "**2)** Use the list that you created in Problem 2. Write additional Python instructions that ask the user to enter a food to delete from the list. You should then delete the requested food from the list and print the list.\n",
        "\n",
        "**3)** Use the list that you created in Problem 2. Write a loop that goes through every element of the list checks whether the food is \"olives\" (or \"olive\") and prints out the food name provided that it is not \"olives\". (I despise \"olives\", wouldn't want to print out that stuff!)\n",
        "\n",
        "To test out your program, you may need to re-run the code from Problem 2 to create a list that contains \"olives\" so you can verify that your code for Problem 4 correctly omits \"olives\" when printing the list.  \n"
      ]
    },
    {
      "cell_type": "code",
      "metadata": {
        "id": "YcwkXmb9DFZd",
        "outputId": "72d97a99-7518-4ddd-f910-d5d79f2a8390",
        "colab": {
          "base_uri": "https://localhost:8080/",
          "height": 399
        }
      },
      "source": [
        "#1\n",
        "food = []\n",
        "\n",
        "x = False\n",
        "while x == False:\n",
        "  print('Enter name of food. To stop entering type: stop')\n",
        "  enterFood= input()\n",
        "  food.append(enterFood)\n",
        "  print(food)\n",
        "  if enterFood == 'stop':\n",
        "    x = True \n",
        "\n",
        "del food[-1]\n",
        "print(food)\n",
        "\n",
        "#2\n",
        "question = input('Would you like to delete anything from the list? Type yes or no')\n",
        "if question == 'yes' or 'Yes':\n",
        "    deleteList = input('What item do you want to delete?')\n",
        "    food.remove(deleteList)\n",
        "    print(food)\n",
        "elif question == 'no' or 'No':\n",
        "  print('Okay, have a nice day!')\n",
        "\n",
        "#3\n",
        "while 'olives' in food:\n",
        "  print(\" Ew, can't have olives in the list\")\n",
        "  break\n",
        "food.remove('olives')\n",
        "print(food)\n",
        "\n",
        "\n",
        "\n"
      ],
      "execution_count": 28,
      "outputs": [
        {
          "output_type": "stream",
          "text": [
            "Enter name of food. To stop entering type: stop\n",
            "sugar\n",
            "['sugar']\n",
            "Enter name of food. To stop entering type: stop\n",
            "spice\n",
            "['sugar', 'spice']\n",
            "Enter name of food. To stop entering type: stop\n",
            "chemical x\n",
            "['sugar', 'spice', 'chemical x']\n",
            "Enter name of food. To stop entering type: stop\n",
            "olives\n",
            "['sugar', 'spice', 'chemical x', 'olives']\n",
            "Enter name of food. To stop entering type: stop\n",
            "stop\n",
            "['sugar', 'spice', 'chemical x', 'olives', 'stop']\n",
            "['sugar', 'spice', 'chemical x', 'olives']\n",
            "Would you like to delete anything from the list? Type yes or noyes\n",
            "What item do you want to delete?chemical x\n",
            "['sugar', 'spice', 'olives']\n",
            " Ew, can't have olives in the list\n",
            "['sugar', 'spice']\n"
          ],
          "name": "stdout"
        }
      ]
    },
    {
      "cell_type": "code",
      "metadata": {
        "id": "Qy9FP2WhCWRV",
        "outputId": "8c1727fe-15bf-4d41-a5e2-e83de244b9d0",
        "colab": {
          "base_uri": "https://localhost:8080/",
          "height": 35
        }
      },
      "source": [
        "#0\n",
        "zen = ['Hello', 'World']\n",
        "print(zen)\n"
      ],
      "execution_count": null,
      "outputs": [
        {
          "output_type": "stream",
          "text": [
            "['Hello', 'World']\n"
          ],
          "name": "stdout"
        }
      ]
    }
  ]
}