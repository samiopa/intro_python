{
  "nbformat": 4,
  "nbformat_minor": 0,
  "metadata": {
    "colab": {
      "name": "Copy of Assignment Week 4.ipynb",
      "provenance": [],
      "include_colab_link": true
    },
    "kernelspec": {
      "name": "python3",
      "display_name": "Python 3"
    }
  },
  "cells": [
    {
      "cell_type": "markdown",
      "metadata": {
        "id": "view-in-github",
        "colab_type": "text"
      },
      "source": [
        "<a href=\"https://colab.research.google.com/github/samiopa/intro_python/blob/master/Copy_of_Assignment_Week_4.ipynb\" target=\"_parent\"><img src=\"https://colab.research.google.com/assets/colab-badge.svg\" alt=\"Open In Colab\"/></a>"
      ]
    },
    {
      "cell_type": "markdown",
      "metadata": {
        "id": "ps76LskfTCG-",
        "colab_type": "text"
      },
      "source": [
        "# WEEK 4 ASSIGNMENT : Functions\n",
        "\n",
        "----------------\n",
        "\n",
        "**0)** Define (def) a Python Function that takes no input and prints \"Hello World\"\n",
        "\n",
        "**1)** Define a Python Function that prints a message of your choice five times in a row. Please do this by putting a loop inside your function. \n",
        "\n",
        "**2)** Modify your function from the previous question so that it takes a number as input which tells the function how many times to print the message. That is, you should make your function more flexible by replacing the fixed number 5 with an input that determines how many times the message is printed. \n",
        "\n",
        "**3)** Define a function called square that takes in a number and returns the square of that number. Recall that the square of a number is just the number times itself. \n",
        "\n",
        "If you have done number (3) correctly, the following Python code should print 9 and 25.\n",
        "\n"
      ]
    },
    {
      "cell_type": "code",
      "metadata": {
        "id": "zVdJK-6D6Wwt",
        "colab_type": "code",
        "colab": {
          "base_uri": "https://localhost:8080/",
          "height": 72
        },
        "outputId": "c9607e91-5726-4e1a-bee9-972d8b4bb44a"
      },
      "source": [
        "#6\n",
        "yourAge = int(input())\n",
        "friendAge = int(input())\n",
        "\n",
        "def bigger(yourAge, friendAge):\n",
        "  if yourAge > friendAge:\n",
        "    return yourAge \n",
        "  elif friendAge > yourAge:\n",
        "    return friendAge\n",
        "\n",
        "bigger(yourAge, friendAge)\n",
        "age = bigger(yourAge, friendAge)\n",
        "print('The older of the two people is '  + str(age) + ' years old')\n",
        "\n",
        "  \n"
      ],
      "execution_count": 52,
      "outputs": [
        {
          "output_type": "stream",
          "text": [
            "7\n",
            "55\n",
            "The older of the two people is 55 years old\n"
          ],
          "name": "stdout"
        }
      ]
    },
    {
      "cell_type": "code",
      "metadata": {
        "id": "QYzVTM0Y4WM9",
        "colab_type": "code",
        "colab": {
          "base_uri": "https://localhost:8080/",
          "height": 35
        },
        "outputId": "3f22c744-77b1-4e7a-c7ec-4df53aeab750"
      },
      "source": [
        "#5\n",
        "\n",
        "def bigger20(n,s):\n",
        "  if n > s:\n",
        "    return n\n",
        "  elif s > n:\n",
        "    return s\n",
        "\n",
        "bigger20(70, 100)\n"
      ],
      "execution_count": 43,
      "outputs": [
        {
          "output_type": "execute_result",
          "data": {
            "text/plain": [
              "100"
            ]
          },
          "metadata": {
            "tags": []
          },
          "execution_count": 43
        }
      ]
    },
    {
      "cell_type": "code",
      "metadata": {
        "id": "KVSR8UUP13v6",
        "colab_type": "code",
        "colab": {
          "base_uri": "https://localhost:8080/",
          "height": 35
        },
        "outputId": "447f3478-3eb5-4948-a982-7e6b8bedbced"
      },
      "source": [
        "#4\n",
        "def bigger10(a):\n",
        "  if a > 10:\n",
        "    return a\n",
        "  else:\n",
        "    return 10\n",
        "\n",
        "bigger10(2)\n",
        "\n"
      ],
      "execution_count": 40,
      "outputs": [
        {
          "output_type": "execute_result",
          "data": {
            "text/plain": [
              "10"
            ]
          },
          "metadata": {
            "tags": []
          },
          "execution_count": 40
        }
      ]
    },
    {
      "cell_type": "code",
      "metadata": {
        "id": "ygZ0fzBgwy9O",
        "colab_type": "code",
        "colab": {
          "base_uri": "https://localhost:8080/",
          "height": 35
        },
        "outputId": "eaa60930-6cf9-46e1-df83-e60c243baa27"
      },
      "source": [
        "#3\n",
        "\n",
        "def square(s):\n",
        "  s = s*s\n",
        "  return s\n",
        "\n",
        "square(10)\n",
        "\n",
        "\n",
        "\n"
      ],
      "execution_count": 32,
      "outputs": [
        {
          "output_type": "execute_result",
          "data": {
            "text/plain": [
              "100"
            ]
          },
          "metadata": {
            "tags": []
          },
          "execution_count": 32
        }
      ]
    },
    {
      "cell_type": "code",
      "metadata": {
        "colab_type": "code",
        "id": "U8IFxX0DiOyv",
        "colab": {
          "base_uri": "https://localhost:8080/",
          "height": 490
        },
        "outputId": "1b0f2238-f17a-42b5-a2ac-2e662abd89ad"
      },
      "source": [
        "#2\n",
        "\n",
        "x= int(input())\n",
        "\n",
        "def purple(s):\n",
        "  p = 0\n",
        "  while p < s:\n",
        "\n",
        "    print('Purple chicken cat')\n",
        "    p = p + 1 \n",
        "\n",
        "purple(x) \n",
        "   \n",
        "\n",
        "\n",
        "\n"
      ],
      "execution_count": 24,
      "outputs": [
        {
          "output_type": "stream",
          "text": [
            "25\n",
            "Purple chicken cat\n",
            "Purple chicken cat\n",
            "Purple chicken cat\n",
            "Purple chicken cat\n",
            "Purple chicken cat\n",
            "Purple chicken cat\n",
            "Purple chicken cat\n",
            "Purple chicken cat\n",
            "Purple chicken cat\n",
            "Purple chicken cat\n",
            "Purple chicken cat\n",
            "Purple chicken cat\n",
            "Purple chicken cat\n",
            "Purple chicken cat\n",
            "Purple chicken cat\n",
            "Purple chicken cat\n",
            "Purple chicken cat\n",
            "Purple chicken cat\n",
            "Purple chicken cat\n",
            "Purple chicken cat\n",
            "Purple chicken cat\n",
            "Purple chicken cat\n",
            "Purple chicken cat\n",
            "Purple chicken cat\n",
            "Purple chicken cat\n"
          ],
          "name": "stdout"
        }
      ]
    },
    {
      "cell_type": "code",
      "metadata": {
        "id": "EKwZuCfsaBDW",
        "colab_type": "code",
        "colab": {
          "base_uri": "https://localhost:8080/",
          "height": 108
        },
        "outputId": "78e5e489-98eb-4511-b051-fb234e06bcf0"
      },
      "source": [
        "#1\n",
        "\n",
        "def purple():\n",
        "  p = 0\n",
        "  while p < 5:\n",
        "\n",
        "    print('Purple chicken cat')\n",
        "    p = p + 1 \n",
        "\n",
        "purple()\n",
        "\n",
        "\n",
        "\n"
      ],
      "execution_count": 17,
      "outputs": [
        {
          "output_type": "stream",
          "text": [
            "Purple chicken cat\n",
            "Purple chicken cat\n",
            "Purple chicken cat\n",
            "Purple chicken cat\n",
            "Purple chicken cat\n"
          ],
          "name": "stdout"
        }
      ]
    },
    {
      "cell_type": "code",
      "metadata": {
        "id": "bTiILq2r6j0Z",
        "colab_type": "code",
        "colab": {
          "base_uri": "https://localhost:8080/",
          "height": 35
        },
        "outputId": "881df1b1-4f0a-47b9-af49-8a4757fe113c"
      },
      "source": [
        "#0\n",
        "def hi():\n",
        "\n",
        "  print('Hello world')\n",
        "hi()\n"
      ],
      "execution_count": 9,
      "outputs": [
        {
          "output_type": "stream",
          "text": [
            "Hello world\n"
          ],
          "name": "stdout"
        }
      ]
    },
    {
      "cell_type": "code",
      "metadata": {
        "id": "XgOcosRDTdLq",
        "colab_type": "code",
        "colab": {}
      },
      "source": [
        "X = square(3)\n",
        "Y= square(5)\n",
        "print(\"The answers are\", X, \"and\", Y)"
      ],
      "execution_count": null,
      "outputs": []
    },
    {
      "cell_type": "markdown",
      "metadata": {
        "id": "Dsj0vYtxTdnS",
        "colab_type": "text"
      },
      "source": [
        "**4)**  Define a function called bigger10 that takes in a number as input and returns whichever is bigger, the number or 10. \n",
        "\n",
        "To do this problem you will need to put an if statement inside your function.\n",
        "\n",
        "bigger10(8) returns 10  ... since 10 is the larger of 10 and 8.\n",
        "\n",
        "bigger10(2) returns 10  ... since 10 is the larger of 10 and 2.\n",
        "\n",
        "bigger10(15) returns 15 ... since 15 is the larger of 10 and 15.\n",
        "\n",
        "bigger10(20) returns 20 ... since 20 is the larger of 10 and 20.\n",
        "\n",
        "**5)**  You can make a function take two inputs by putting two inputs inside the parentheses and separating them with a comma. \n",
        "\n",
        "Define a function called bigger that takes in two numbers as input and returns the bigger of the two numbers\n",
        "\n",
        "bigger(10, 8) returns 10 .... since 10 is the larger of 10 and 8\n",
        "\n",
        "bigger(12, 5) returns 12 ... since 12 is the larger of 12 and 5\n",
        "\n",
        "bigger(3, 5) returns 5 ... since 5 is the larger of 3 and 5\n",
        "\n",
        "bigger(12, 20) returns 20 ... since 20 is the larger of 12 and 20\n",
        "\n",
        "**6)** Write a short program that uses the function bigger which you just defined. Your program should ask the user to enter their age, and then ask the user to enter their friend's age. Finally, the program should use the bigger function and then print out the message:\n",
        "\n",
        "\"The older of the two people is **** years old\" \n",
        "\n",
        "(Where the **** should be replaced by the age of the older person)\n",
        "\n"
      ]
    },
    {
      "cell_type": "markdown",
      "metadata": {
        "id": "ELH0N3BwT2vN",
        "colab_type": "text"
      },
      "source": [
        "-------\n",
        "\n",
        "Problems 0 through 6 are the required problems for this week, but if you are able to do Problem 7 it will help you next week\n",
        "\n",
        "**7)**  In the previous assignment, you created a guessing game. If you didn't get it working perfectly, that is fine, now is a great time to revisit it and get it working. \n",
        "\n",
        "The guessing game starts with a number and then repeatedly asks the user to guess the number. After each guess the game should tell the user whether their guess was \"too high\" or \"too low\". \n",
        "\n",
        "For this assignment, I want you to put your guessing game into a function called play_the_game. The function should take one input which is the target number that the player is trying to guess. The function should return the number of tries it takes the player to guess the number. \n",
        "\n",
        "By putting this in a function, I could write this in my main program:\n"
      ]
    },
    {
      "cell_type": "code",
      "metadata": {
        "id": "IJ8cuY5uT3Qu",
        "colab_type": "code",
        "colab": {}
      },
      "source": [
        "score = play_the_game(51)\n",
        "print(\"It took you\", score, \"tries to guess the number)"
      ],
      "execution_count": null,
      "outputs": []
    },
    {
      "cell_type": "markdown",
      "metadata": {
        "id": "0XCfjB1oUGxn",
        "colab_type": "text"
      },
      "source": [
        "Also, without changing the function at all, I could play the guessing game with a random target number"
      ]
    },
    {
      "cell_type": "code",
      "metadata": {
        "id": "jPl7D-DoUJLK",
        "colab_type": "code",
        "colab": {}
      },
      "source": [
        "import random\n",
        "target_number = random.randint(0,100)\n",
        "score = play_the_game(target_number)\n",
        "print(\"It took you\", score, \"tries to guess the number)"
      ],
      "execution_count": null,
      "outputs": []
    }
  ]
}